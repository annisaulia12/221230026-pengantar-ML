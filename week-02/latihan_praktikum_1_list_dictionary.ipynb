{
  "nbformat": 4,
  "nbformat_minor": 0,
  "metadata": {
    "colab": {
      "provenance": [],
      "authorship_tag": "ABX9TyNBI4zyjD+Jp/L0LpSGSotT",
      "include_colab_link": true
    },
    "kernelspec": {
      "name": "python3",
      "display_name": "Python 3"
    },
    "language_info": {
      "name": "python"
    }
  },
  "cells": [
    {
      "cell_type": "markdown",
      "metadata": {
        "id": "view-in-github",
        "colab_type": "text"
      },
      "source": [
        "<a href=\"https://colab.research.google.com/github/annisaulia12/221230026-pengantar-ML/blob/main/week-02/latihan_praktikum_1_list_dictionary.ipynb\" target=\"_parent\"><img src=\"https://colab.research.google.com/assets/colab-badge.svg\" alt=\"Open In Colab\"/></a>"
      ]
    },
    {
      "cell_type": "code",
      "execution_count": 2,
      "metadata": {
        "colab": {
          "base_uri": "https://localhost:8080/"
        },
        "id": "8Qs8uHlUiOJl",
        "outputId": "b6fd4dc2-38fb-4449-80bc-72ac4433adbe"
      },
      "outputs": [
        {
          "output_type": "stream",
          "name": "stdout",
          "text": [
            "Raw data: [15, 16, 17, 18, 19, 20, 21, 22, 23, 24, 25, 26, 27, 28, 29, 30]\n",
            "Filtered data (20-25): [20, 21, 22, 23, 24, 25]\n",
            "Normalized data (0-100): [0, 7, 13, 20, 27, 33, 40, 47, 53, 60, 67, 73, 80, 87, 93, 100]\n",
            "Moving sum (window=4): [66, 70, 74, 78, 82, 86, 90, 94, 98, 102, 106, 110, 114]\n"
          ]
        }
      ],
      "source": [
        "# Preprocessing\n",
        "# Data mentah dari sensor (urutan 15 - 30)\n",
        "raw_data = list(range(15, 31))  # otomatis [15,16,...,30]\n",
        "\n",
        "# SOLUSI 1: Filter data yang berada di range 20-25 derajat\n",
        "filtered_data = [x for x in raw_data if 20 <= x <= 25]\n",
        "\n",
        "# SOLUSI 2: Normalisasi data ke range 0-100 (bukan 0-1 agar hasil bulat)\n",
        "min_val = min(raw_data)\n",
        "max_val = max(raw_data)\n",
        "normalized_data = [int(round((x - min_val) / (max_val - min_val) * 100)) for x in raw_data]\n",
        "\n",
        "# SOLUSI 3: Hitung moving sum dengan window size 4\n",
        "def moving_sum(data, window_size):\n",
        "    results = []\n",
        "    for i in range(len(data) - window_size + 1):\n",
        "        window = data[i:i + window_size]\n",
        "        total = sum(window)\n",
        "        results.append(total)\n",
        "    return results\n",
        "\n",
        "ms_result = moving_sum(raw_data, 4)\n",
        "\n",
        "print(\"Raw data:\", raw_data)\n",
        "print(\"Filtered data (20-25):\", filtered_data)\n",
        "print(\"Normalized data (0-100):\", normalized_data)\n",
        "print(\"Moving sum (window=4):\", ms_result)\n"
      ]
    },
    {
      "cell_type": "markdown",
      "source": [
        "OPERASI DICTIONARY"
      ],
      "metadata": {
        "id": "VzXR_Wvliu7a"
      }
    },
    {
      "cell_type": "code",
      "source": [
        "# Processing Dataset untuk Machine Learning\n",
        "# Dataset sample untuk klasifikasi\n",
        "dataset = [\n",
        "    {'features': [10, 20, 30], 'label': 'Positive'},\n",
        "    {'features': [15, 25, 35], 'label': 'Negative'},\n",
        "    {'features': [12, 22, 32], 'label': 'Positive'},\n",
        "    {'features': [18, 28, 38], 'label': 'Negative'},\n",
        "    {'features': [14, 24, 34], 'label': 'Positive'}\n",
        "]\n",
        "\n",
        "def group_by_label(data):\n",
        "    grouped = {}\n",
        "    for item in data:\n",
        "        label = item['label']\n",
        "        features = item['features']\n",
        "        if label not in grouped:\n",
        "            grouped[label] = []\n",
        "        grouped[label].append(features)\n",
        "    return grouped\n",
        "\n",
        "def max_features_per_class(grouped_data):\n",
        "    max_values = {}\n",
        "    for label, features_list in grouped_data.items():\n",
        "        n_features = len(features_list[0])\n",
        "        max_list = [0] * n_features\n",
        "        for features in features_list:\n",
        "            for i, val in enumerate(features):\n",
        "                if val > max_list[i]:\n",
        "                    max_list[i] = val\n",
        "        max_values[label] = max_list\n",
        "    return max_values\n",
        "\n",
        "grouped_data = group_by_label(dataset)\n",
        "max_features = max_features_per_class(grouped_data)\n",
        "\n",
        "print(\"\\nGrouped data by label:\")\n",
        "for label, features in grouped_data.items():\n",
        "    print(f\"{label}: {features} (Total data: {len(features)})\")\n",
        "\n",
        "print(\"\\nMaximum features per class:\")\n",
        "for label, max_vals in max_features.items():\n",
        "    print(f\"{label}: {max_vals}\")\n",
        "\n",
        "# TEST ASSERTIONS\n",
        "assert 'Positive' in grouped_data, \"Should contain Positive class\"\n",
        "assert 'Negative' in grouped_data, \"Should contain Negative class\"\n",
        "assert all(isinstance(val, int) for vals in max_features.values() for val in vals), \"All values must be integer\"\n",
        "\n",
        "print(\"\\n✅ Semua assertions berhasil! Solusi benar.\")\n"
      ],
      "metadata": {
        "colab": {
          "base_uri": "https://localhost:8080/"
        },
        "id": "yitd1EsvifOB",
        "outputId": "cfbfd814-8056-4ced-a57c-227c1807f2a5"
      },
      "execution_count": 5,
      "outputs": [
        {
          "output_type": "stream",
          "name": "stdout",
          "text": [
            "\n",
            "Grouped data by label:\n",
            "Positive: [[10, 20, 30], [12, 22, 32], [14, 24, 34]] (Total data: 3)\n",
            "Negative: [[15, 25, 35], [18, 28, 38]] (Total data: 2)\n",
            "\n",
            "Maximum features per class:\n",
            "Positive: [14, 24, 34]\n",
            "Negative: [18, 28, 38]\n",
            "\n",
            "✅ Semua assertions berhasil! Solusi benar.\n"
          ]
        }
      ]
    },
    {
      "cell_type": "code",
      "source": [],
      "metadata": {
        "id": "i1dvurGwioXT"
      },
      "execution_count": null,
      "outputs": []
    }
  ]
}
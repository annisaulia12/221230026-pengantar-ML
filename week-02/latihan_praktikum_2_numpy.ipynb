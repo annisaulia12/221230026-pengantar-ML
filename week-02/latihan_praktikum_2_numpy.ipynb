{
  "nbformat": 4,
  "nbformat_minor": 0,
  "metadata": {
    "colab": {
      "provenance": [],
      "authorship_tag": "ABX9TyPLzlFJR0V3CzyoHHDaYZDp",
      "include_colab_link": true
    },
    "kernelspec": {
      "name": "python3",
      "display_name": "Python 3"
    },
    "language_info": {
      "name": "python"
    }
  },
  "cells": [
    {
      "cell_type": "markdown",
      "metadata": {
        "id": "view-in-github",
        "colab_type": "text"
      },
      "source": [
        "<a href=\"https://colab.research.google.com/github/annisaulia12/221230026-pengantar-ML/blob/main/week-02/latihan_praktikum_2_numpy.ipynb\" target=\"_parent\"><img src=\"https://colab.research.google.com/assets/colab-badge.svg\" alt=\"Open In Colab\"/></a>"
      ]
    },
    {
      "cell_type": "code",
      "execution_count": null,
      "metadata": {
        "id": "3oY5PgdJjTGH"
      },
      "outputs": [],
      "source": [
        "import numpy as np"
      ]
    },
    {
      "cell_type": "code",
      "source": [
        "'''Implementasi Preprocessing Pipeline'''\n",
        "import numpy as np\n",
        "\n",
        "# Dataset simulasi: 50 samples, 5 features\n",
        "np.random.seed(42)\n",
        "X = np.random.randn(50, 5) * 10 + 5  # Mean=5, Std=10\n",
        "\n",
        "# Normalisasi Z-score: (x - mean) / std\n",
        "def z_score_normalization(data):\n",
        "    mean = np.mean(data, axis=0)\n",
        "    std = np.std(data, axis=0)\n",
        "    normalized = (data - mean) / std\n",
        "    return normalized\n",
        "\n",
        "X_normalized = z_score_normalization(X)\n",
        "\n",
        "# Handle outliers - replace values beyond 3 std with boundaries\n",
        "def handle_outliers(data, std_threshold=3):\n",
        "    mean = np.mean(data, axis=0)\n",
        "    std = np.std(data, axis=0)\n",
        "\n",
        "    lower_bound = mean - std_threshold * std\n",
        "    upper_bound = mean + std_threshold * std\n",
        "\n",
        "    cleaned = np.clip(data, lower_bound, upper_bound)\n",
        "    return cleaned\n",
        "\n",
        "X_cleaned = handle_outliers(X_normalized)\n",
        "\n",
        "# One-hot encoding untuk label kategorikal\n",
        "def one_hot_encoding(labels):\n",
        "    n_classes = len(np.unique(labels))\n",
        "    n_samples = len(labels)\n",
        "\n",
        "    one_hot = np.zeros((n_samples, n_classes))\n",
        "    for i, label in enumerate(labels):\n",
        "        one_hot[i, label] = 1\n",
        "\n",
        "    return one_hot\n",
        "\n",
        "labels = np.array([0, 1, 2, 0, 1, 2, 0])\n",
        "one_hot_labels = one_hot_encoding(labels)\n",
        "\n",
        "# Train-test split manual\n",
        "def train_test_split_numpy(X, y, test_size=0.2):\n",
        "    n_samples = X.shape[0]\n",
        "    n_test = int(n_samples * test_size)\n",
        "\n",
        "    indices = np.random.permutation(n_samples)\n",
        "\n",
        "    test_indices = indices[:n_test]\n",
        "    train_indices = indices[n_test:]\n",
        "\n",
        "    X_train = X[train_indices]\n",
        "    X_test = X[test_indices]\n",
        "    y_train = y[train_indices]\n",
        "    y_test = y[test_indices]\n",
        "\n",
        "    return X_train, X_test, y_train, y_test\n",
        "\n",
        "# Generate sample labels\n",
        "y = np.random.randint(0, 3, 50)\n",
        "X_train, X_test, y_train, y_test = train_test_split_numpy(X, y, test_size=0.2)\n",
        "\n",
        "print(\"Original data shape:\", X.shape)\n",
        "print(\"Normalized data mean:\", np.mean(X_normalized, axis=0).round(3))\n",
        "print(\"Normalized data std:\", np.std(X_normalized, axis=0).round(3))\n",
        "print(\"One-hot labels shape:\", one_hot_labels.shape)\n",
        "print(\"One-hot labels:\\n\", one_hot_labels)\n",
        "print(\"Train shape:\", X_train.shape, \"Test shape:\", X_test.shape)\n",
        "\n",
        "\n",
        "# TEST ASSERTIONS\n",
        "assert X_normalized.shape == X.shape, \"Shape should remain same\"\n",
        "assert np.allclose(X_normalized.mean(axis=0), 0, atol=1e-10), \"Mean should be ~0 after z-score\"\n",
        "assert np.allclose(X_normalized.std(axis=0), 1, atol=1e-10), \"Std should be ~1 after z-score\"\n",
        "\n",
        "print(\"\\n✅ Semua assertions berhasil! Kode benar.\")\n"
      ],
      "metadata": {
        "colab": {
          "base_uri": "https://localhost:8080/"
        },
        "id": "2iz4-A4Zjh1g",
        "outputId": "5e98b01f-99ab-4cf9-ac65-e40828706e17"
      },
      "execution_count": 20,
      "outputs": [
        {
          "output_type": "stream",
          "name": "stdout",
          "text": [
            "Original data shape: (50, 5)\n",
            "Normalized data mean: [-0. -0. -0. -0. -0.]\n",
            "Normalized data std: [1. 1. 1. 1. 1.]\n",
            "One-hot labels shape: (7, 3)\n",
            "One-hot labels:\n",
            " [[1. 0. 0.]\n",
            " [0. 1. 0.]\n",
            " [0. 0. 1.]\n",
            " [1. 0. 0.]\n",
            " [0. 1. 0.]\n",
            " [0. 0. 1.]\n",
            " [1. 0. 0.]]\n",
            "Train shape: (40, 5) Test shape: (10, 5)\n",
            "\n",
            "✅ Semua assertions berhasil! Kode benar.\n"
          ]
        }
      ]
    }
  ]
}
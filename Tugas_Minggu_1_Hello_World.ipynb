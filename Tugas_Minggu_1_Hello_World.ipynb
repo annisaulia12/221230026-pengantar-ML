{
  "nbformat": 4,
  "nbformat_minor": 0,
  "metadata": {
    "colab": {
      "provenance": [],
      "authorship_tag": "ABX9TyOaBMyeT2mUJJstK3p6IqUv",
      "include_colab_link": true
    },
    "kernelspec": {
      "name": "python3",
      "display_name": "Python 3"
    },
    "language_info": {
      "name": "python"
    }
  },
  "cells": [
    {
      "cell_type": "markdown",
      "metadata": {
        "id": "view-in-github",
        "colab_type": "text"
      },
      "source": [
        "<a href=\"https://colab.research.google.com/github/221230026-design/221230026-pengantar-ML/blob/main/Tugas_Minggu_1_Hello_World.ipynb\" target=\"_parent\"><img src=\"https://colab.research.google.com/assets/colab-badge.svg\" alt=\"Open In Colab\"/></a>"
      ]
    },
    {
      "cell_type": "code",
      "execution_count": 2,
      "metadata": {
        "colab": {
          "base_uri": "https://localhost:8080/"
        },
        "id": "uiKdCVmoiFvt",
        "outputId": "3f59d178-fcbf-4a3e-a6f9-848d003ce0d5"
      },
      "outputs": [
        {
          "output_type": "stream",
          "name": "stdout",
          "text": [
            "Hello, world!\n",
            "Selamat datang di Mata Kuliah Pengantar Machine Learning!\n",
            "Nama: Annisa Aulia Putri\n",
            "NIM: 221230026\n"
          ]
        }
      ],
      "source": [
        "print(\"Hello, world!\")\n",
        "print(\"Selamat datang di Mata Kuliah Pengantar Machine Learning!\")\n",
        "print(\"Nama: Annisa Aulia Putri\")\n",
        "print(\"NIM: 221230026\")"
      ]
    }
  ]
}